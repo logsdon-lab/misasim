{
 "cells": [
  {
   "cell_type": "code",
   "execution_count": 2,
   "metadata": {},
   "outputs": [],
   "source": [
    "import re\n",
    "\n",
    "import polars as pl"
   ]
  },
  {
   "cell_type": "code",
   "execution_count": 8,
   "metadata": {},
   "outputs": [],
   "source": [
    "cols = (\n",
    "    \"qname\",\n",
    "    \"qlen\",\n",
    "    \"qst\",\n",
    "    \"qend\",\n",
    "    \"ort\",\n",
    "    \"tname\",\n",
    "    \"tlen\",\n",
    "    \"tst\",\n",
    "    \"tend\",\n",
    "    \"matches\",\n",
    "    \"aln_blk_len\",\n",
    "    \"q\",\n",
    "    \"id\",\n",
    "    \"cg\",\n",
    ")"
   ]
  },
  {
   "cell_type": "code",
   "execution_count": 4,
   "metadata": {},
   "outputs": [
    {
     "data": {
      "text/html": [
       "<div><style>\n",
       ".dataframe > thead > tr,\n",
       ".dataframe > tbody > tr {\n",
       "  text-align: right;\n",
       "  white-space: pre-wrap;\n",
       "}\n",
       "</style>\n",
       "<small>shape: (10_347, 3)</small><table border=\"1\" class=\"dataframe\"><thead><tr><th>ctg</th><th>length</th><th>misassembly</th></tr><tr><td>str</td><td>i64</td><td>str</td></tr></thead><tbody><tr><td>&quot;unassigned-0000201&quot;</td><td>64707</td><td>&quot;gap&quot;</td></tr><tr><td>&quot;unassigned-0000202&quot;</td><td>139976</td><td>&quot;gap&quot;</td></tr><tr><td>&quot;unassigned-0000214&quot;</td><td>42457</td><td>&quot;gap&quot;</td></tr><tr><td>&quot;unassigned-0000248&quot;</td><td>155595</td><td>&quot;gap&quot;</td></tr><tr><td>&quot;unassigned-0000249&quot;</td><td>168088</td><td>&quot;gap&quot;</td></tr><tr><td>&hellip;</td><td>&hellip;</td><td>&hellip;</td></tr><tr><td>&quot;unassigned-0003439|unassigned|…</td><td>25993</td><td>&quot;misjoin&quot;</td></tr><tr><td>&quot;unassigned-0003440|unassigned|…</td><td>166868</td><td>&quot;misjoin&quot;</td></tr><tr><td>&quot;unassigned-0003441|unassigned|…</td><td>43321</td><td>&quot;misjoin&quot;</td></tr><tr><td>&quot;unassigned-0002514&quot;</td><td>33142</td><td>&quot;misjoin&quot;</td></tr><tr><td>&quot;HG00171_chr9_haplotype2-000014…</td><td>93787796</td><td>&quot;misjoin&quot;</td></tr></tbody></table></div>"
      ],
      "text/plain": [
       "shape: (10_347, 3)\n",
       "┌─────────────────────────────────┬──────────┬─────────────┐\n",
       "│ ctg                             ┆ length   ┆ misassembly │\n",
       "│ ---                             ┆ ---      ┆ ---         │\n",
       "│ str                             ┆ i64      ┆ str         │\n",
       "╞═════════════════════════════════╪══════════╪═════════════╡\n",
       "│ unassigned-0000201              ┆ 64707    ┆ gap         │\n",
       "│ unassigned-0000202              ┆ 139976   ┆ gap         │\n",
       "│ unassigned-0000214              ┆ 42457    ┆ gap         │\n",
       "│ unassigned-0000248              ┆ 155595   ┆ gap         │\n",
       "│ unassigned-0000249              ┆ 168088   ┆ gap         │\n",
       "│ …                               ┆ …        ┆ …           │\n",
       "│ unassigned-0003439|unassigned|… ┆ 25993    ┆ misjoin     │\n",
       "│ unassigned-0003440|unassigned|… ┆ 166868   ┆ misjoin     │\n",
       "│ unassigned-0003441|unassigned|… ┆ 43321    ┆ misjoin     │\n",
       "│ unassigned-0002514              ┆ 33142    ┆ misjoin     │\n",
       "│ HG00171_chr9_haplotype2-000014… ┆ 93787796 ┆ misjoin     │\n",
       "└─────────────────────────────────┴──────────┴─────────────┘"
      ]
     },
     "execution_count": 4,
     "metadata": {},
     "output_type": "execute_result"
    }
   ],
   "source": [
    "# Get contig length.\n",
    "MISASSEMBLIES = [\"gap\", \"false-duplication\", \"misjoin\"]\n",
    "df_lens = pl.concat(\n",
    "    pl.read_csv(\n",
    "        f\"../../results/misasim/HG00171_chr9_haplotype2-0000142_{m}_asm.fa.fai\",\n",
    "        separator=\"\\t\",\n",
    "        has_header=False,\n",
    "    )\n",
    "    .rename({\"column_1\": \"ctg\", \"column_2\": \"length\"})\n",
    "    .select(\"ctg\", \"length\")\n",
    "    .with_columns(misassembly=pl.lit(m))\n",
    "    for m in MISASSEMBLIES\n",
    ")\n",
    "df_lens"
   ]
  },
  {
   "cell_type": "code",
   "execution_count": 11,
   "metadata": {},
   "outputs": [
    {
     "name": "stdout",
     "output_type": "stream",
     "text": [
      "('false-duplication', 'fwd', 'gap', 'fwd')\n"
     ]
    },
    {
     "data": {
      "text/html": [
       "<div><style>\n",
       ".dataframe > thead > tr,\n",
       ".dataframe > tbody > tr {\n",
       "  text-align: right;\n",
       "  white-space: pre-wrap;\n",
       "}\n",
       "</style>\n",
       "<small>shape: (6, 25)</small><table border=\"1\" class=\"dataframe\"><thead><tr><th>index</th><th>qname</th><th>qlen</th><th>qst</th><th>qend</th><th>ort</th><th>tname</th><th>tlen</th><th>tst</th><th>tend</th><th>matches</th><th>aln_blk_len</th><th>q</th><th>id</th><th>cg</th><th>target_mtype</th><th>query_mtype</th><th>new_qname</th><th>qname_ctg_start</th><th>qname_ctg_end</th><th>new_tname</th><th>tname_ctg_start</th><th>tname_ctg_end</th><th>query_ctg_len</th><th>target_ctg_len</th></tr><tr><td>u32</td><td>str</td><td>i64</td><td>i64</td><td>i64</td><td>str</td><td>str</td><td>i64</td><td>i64</td><td>i64</td><td>i64</td><td>i64</td><td>i64</td><td>str</td><td>str</td><td>str</td><td>str</td><td>str</td><td>i64</td><td>i64</td><td>str</td><td>i64</td><td>i64</td><td>i64</td><td>i64</td></tr></thead><tbody><tr><td>0</td><td>&quot;HG00171_chr9_haplotype2-000014…</td><td>2039578</td><td>88082883</td><td>88637345</td><td>&quot;+&quot;</td><td>&quot;HG00171_chr9_haplotype2-000014…</td><td>2039578</td><td>88082883</td><td>88637345</td><td>554462</td><td>554462</td><td>60</td><td>&quot;id:Z:&quot;</td><td>&quot;cg:Z:554462=&quot;</td><td>&quot;false-duplication&quot;</td><td>&quot;gap&quot;</td><td>&quot;HG00171_chr9_haplotype2-000014…</td><td>88082883</td><td>90122460</td><td>&quot;HG00171_chr9_haplotype2-000014…</td><td>88082883</td><td>90122460</td><td>93834890</td><td>93973332</td></tr><tr><td>1</td><td>&quot;HG00171_chr9_haplotype2-000014…</td><td>2039578</td><td>88637345</td><td>88711160</td><td>&quot;+&quot;</td><td>&quot;HG00171_chr9_haplotype2-000014…</td><td>2039578</td><td>88683409</td><td>88757224</td><td>73815</td><td>73815</td><td>60</td><td>&quot;id:Z:&quot;</td><td>&quot;cg:Z:73815=&quot;</td><td>&quot;false-duplication&quot;</td><td>&quot;gap&quot;</td><td>&quot;HG00171_chr9_haplotype2-000014…</td><td>88082883</td><td>90122460</td><td>&quot;HG00171_chr9_haplotype2-000014…</td><td>88082883</td><td>90122460</td><td>93834890</td><td>93973332</td></tr><tr><td>2</td><td>&quot;HG00171_chr9_haplotype2-000014…</td><td>2039578</td><td>88711160</td><td>89516527</td><td>&quot;+&quot;</td><td>&quot;HG00171_chr9_haplotype2-000014…</td><td>2039578</td><td>88849602</td><td>89654969</td><td>805367</td><td>805367</td><td>60</td><td>&quot;id:Z:&quot;</td><td>&quot;cg:Z:805367=&quot;</td><td>&quot;false-duplication&quot;</td><td>&quot;gap&quot;</td><td>&quot;HG00171_chr9_haplotype2-000014…</td><td>88082883</td><td>90122460</td><td>&quot;HG00171_chr9_haplotype2-000014…</td><td>88082883</td><td>90122460</td><td>93834890</td><td>93973332</td></tr><tr><td>3</td><td>&quot;HG00171_chr9_haplotype2-000014…</td><td>2039578</td><td>89559365</td><td>89984019</td><td>&quot;+&quot;</td><td>&quot;HG00171_chr9_haplotype2-000014…</td><td>2039578</td><td>89697807</td><td>90122461</td><td>424654</td><td>424654</td><td>60</td><td>&quot;id:Z:&quot;</td><td>&quot;cg:Z:424654=&quot;</td><td>&quot;false-duplication&quot;</td><td>&quot;gap&quot;</td><td>&quot;HG00171_chr9_haplotype2-000014…</td><td>88082883</td><td>90122460</td><td>&quot;HG00171_chr9_haplotype2-000014…</td><td>88082883</td><td>90122460</td><td>93834890</td><td>93973332</td></tr><tr><td>4</td><td>&quot;HG00171_chr9_haplotype2-000014…</td><td>2039578</td><td>90098515</td><td>90099033</td><td>&quot;-&quot;</td><td>&quot;HG00171_chr9_haplotype2-000014…</td><td>2039578</td><td>90061379</td><td>90061897</td><td>518</td><td>518</td><td>0</td><td>&quot;id:Z:&quot;</td><td>&quot;cg:Z:178=1X79=1X31=1X23=1X49=1…</td><td>&quot;false-duplication&quot;</td><td>&quot;gap&quot;</td><td>&quot;HG00171_chr9_haplotype2-000014…</td><td>88082883</td><td>90122460</td><td>&quot;HG00171_chr9_haplotype2-000014…</td><td>88082883</td><td>90122460</td><td>93834890</td><td>93973332</td></tr><tr><td>5</td><td>&quot;HG00171_chr9_haplotype2-000014…</td><td>2039578</td><td>90099033</td><td>90099317</td><td>&quot;-&quot;</td><td>&quot;HG00171_chr9_haplotype2-000014…</td><td>2039578</td><td>88100506</td><td>88100790</td><td>284</td><td>284</td><td>12</td><td>&quot;id:Z:&quot;</td><td>&quot;cg:Z:75=1X35=1X32=1X96=1X42=&quot;</td><td>&quot;false-duplication&quot;</td><td>&quot;gap&quot;</td><td>&quot;HG00171_chr9_haplotype2-000014…</td><td>88082883</td><td>90122460</td><td>&quot;HG00171_chr9_haplotype2-000014…</td><td>88082883</td><td>90122460</td><td>93834890</td><td>93973332</td></tr></tbody></table></div>"
      ],
      "text/plain": [
       "shape: (6, 25)\n",
       "┌───────┬─────────────┬─────────┬──────────┬───┬────────────┬────────────┬────────────┬────────────┐\n",
       "│ index ┆ qname       ┆ qlen    ┆ qst      ┆ … ┆ tname_ctg_ ┆ tname_ctg_ ┆ query_ctg_ ┆ target_ctg │\n",
       "│ ---   ┆ ---         ┆ ---     ┆ ---      ┆   ┆ start      ┆ end        ┆ len        ┆ _len       │\n",
       "│ u32   ┆ str         ┆ i64     ┆ i64      ┆   ┆ ---        ┆ ---        ┆ ---        ┆ ---        │\n",
       "│       ┆             ┆         ┆          ┆   ┆ i64        ┆ i64        ┆ i64        ┆ i64        │\n",
       "╞═══════╪═════════════╪═════════╪══════════╪═══╪════════════╪════════════╪════════════╪════════════╡\n",
       "│ 0     ┆ HG00171_chr ┆ 2039578 ┆ 88082883 ┆ … ┆ 88082883   ┆ 90122460   ┆ 93834890   ┆ 93973332   │\n",
       "│       ┆ 9_haplotype ┆         ┆          ┆   ┆            ┆            ┆            ┆            │\n",
       "│       ┆ 2-000014…   ┆         ┆          ┆   ┆            ┆            ┆            ┆            │\n",
       "│ 1     ┆ HG00171_chr ┆ 2039578 ┆ 88637345 ┆ … ┆ 88082883   ┆ 90122460   ┆ 93834890   ┆ 93973332   │\n",
       "│       ┆ 9_haplotype ┆         ┆          ┆   ┆            ┆            ┆            ┆            │\n",
       "│       ┆ 2-000014…   ┆         ┆          ┆   ┆            ┆            ┆            ┆            │\n",
       "│ 2     ┆ HG00171_chr ┆ 2039578 ┆ 88711160 ┆ … ┆ 88082883   ┆ 90122460   ┆ 93834890   ┆ 93973332   │\n",
       "│       ┆ 9_haplotype ┆         ┆          ┆   ┆            ┆            ┆            ┆            │\n",
       "│       ┆ 2-000014…   ┆         ┆          ┆   ┆            ┆            ┆            ┆            │\n",
       "│ 3     ┆ HG00171_chr ┆ 2039578 ┆ 89559365 ┆ … ┆ 88082883   ┆ 90122460   ┆ 93834890   ┆ 93973332   │\n",
       "│       ┆ 9_haplotype ┆         ┆          ┆   ┆            ┆            ┆            ┆            │\n",
       "│       ┆ 2-000014…   ┆         ┆          ┆   ┆            ┆            ┆            ┆            │\n",
       "│ 4     ┆ HG00171_chr ┆ 2039578 ┆ 90098515 ┆ … ┆ 88082883   ┆ 90122460   ┆ 93834890   ┆ 93973332   │\n",
       "│       ┆ 9_haplotype ┆         ┆          ┆   ┆            ┆            ┆            ┆            │\n",
       "│       ┆ 2-000014…   ┆         ┆          ┆   ┆            ┆            ┆            ┆            │\n",
       "│ 5     ┆ HG00171_chr ┆ 2039578 ┆ 90099033 ┆ … ┆ 88082883   ┆ 90122460   ┆ 93834890   ┆ 93973332   │\n",
       "│       ┆ 9_haplotype ┆         ┆          ┆   ┆            ┆            ┆            ┆            │\n",
       "│       ┆ 2-000014…   ┆         ┆          ┆   ┆            ┆            ┆            ┆            │\n",
       "└───────┴─────────────┴─────────┴──────────┴───┴────────────┴────────────┴────────────┴────────────┘"
      ]
     },
     "execution_count": 11,
     "metadata": {},
     "output_type": "execute_result"
    }
   ],
   "source": [
    "# Read all paf files, rename cols, and filter only for primary alignments.\n",
    "add_ctg_coord_cols = [\n",
    "    \"qname_ctg_start\",\n",
    "    \"tname_ctg_start\",\n",
    "    \"qname_ctg_end\",\n",
    "    \"tname_ctg_end\",\n",
    "]\n",
    "infile = \"../../results/misasim/repair/HG00171_chr9_haplotype2-0000142_false-duplication_fwd_HG00171_chr9_haplotype2-0000142_gap_fwd_break.paf\"\n",
    "mtch = re.search(\n",
    "    r\"results/misasim/repair/HG00171_chr9_haplotype2-0000142_(.*?)_(.*?)_HG00171_chr9_haplotype2-0000142_(.*?)_(.*?)_break.paf\",\n",
    "    infile,\n",
    ")\n",
    "target_mtype, target_ort, query_mtype, query_ort = mtch.groups()\n",
    "print(mtch.groups())\n",
    "\n",
    "df = (\n",
    "    pl.read_csv(\n",
    "        infile,\n",
    "        separator=\"\\t\",\n",
    "        has_header=False,\n",
    "    )\n",
    "    .rename({f\"column_{i}\": c for i, c in enumerate(cols, 1)})\n",
    "    .with_columns(\n",
    "        target_mtype=pl.lit(target_mtype),\n",
    "        query_mtype=pl.lit(query_mtype),\n",
    "        new_qname=pl.col(\"qname\").str.split_exact(\":\", 1),\n",
    "        new_tname=pl.col(\"tname\").str.split_exact(\":\", 1),\n",
    "    )\n",
    "    .unnest(\"new_qname\")\n",
    "    .rename({\"field_0\": \"new_qname\", \"field_1\": \"qname_coords\"})\n",
    "    .unnest(\"new_tname\")\n",
    "    .rename({\"field_0\": \"new_tname\", \"field_1\": \"tname_coords\"})\n",
    "    .with_columns(\n",
    "        pl.col(\"qname_coords\").str.split_exact(\"-\", 1),\n",
    "        pl.col(\"tname_coords\").str.split_exact(\"-\", 1),\n",
    "    )\n",
    "    .unnest(\"qname_coords\")\n",
    "    .rename({\"field_0\": \"qname_ctg_start\", \"field_1\": \"qname_ctg_end\"})\n",
    "    .unnest(\"tname_coords\")\n",
    "    .rename({\"field_0\": \"tname_ctg_start\", \"field_1\": \"tname_ctg_end\"})\n",
    "    .cast({col: pl.Int64 for col in add_ctg_coord_cols})\n",
    "    .with_columns(\n",
    "        pl.col(\"tst\") + pl.col(\"tname_ctg_start\"),\n",
    "        pl.col(\"tend\") + pl.col(\"tname_ctg_start\"),\n",
    "        pl.col(\"qst\") + pl.col(\"qname_ctg_start\"),\n",
    "        pl.col(\"qend\") + pl.col(\"qname_ctg_start\"),\n",
    "    )\n",
    "    .join(\n",
    "        df_lens.rename({\"ctg\": \"new_qname\", \"misassembly\": \"query_mtype\"}),\n",
    "        on=[\"new_qname\", \"query_mtype\"],\n",
    "    )\n",
    "    .rename({\"length\": \"query_ctg_len\"})\n",
    "    .join(\n",
    "        df_lens.rename({\"ctg\": \"new_tname\", \"misassembly\": \"target_mtype\"}),\n",
    "        on=[\"new_tname\", \"target_mtype\"],\n",
    "    )\n",
    "    .rename({\"length\": \"target_ctg_len\"})\n",
    "    .sort(by=\"qname\")\n",
    "    .with_row_index()\n",
    ")\n",
    "df"
   ]
  },
  {
   "cell_type": "code",
   "execution_count": null,
   "metadata": {},
   "outputs": [],
   "source": [
    "# On broken paf\n",
    "\n",
    "# if current row stop and next row end are equivallent, means there is some indel.\n",
    "# then calculate query stop and next start. this is the indel size"
   ]
  },
  {
   "cell_type": "code",
   "execution_count": 67,
   "metadata": {},
   "outputs": [
    {
     "data": {
      "text/html": [
       "<div><style>\n",
       ".dataframe > thead > tr,\n",
       ".dataframe > tbody > tr {\n",
       "  text-align: right;\n",
       "  white-space: pre-wrap;\n",
       "}\n",
       "</style>\n",
       "<small>shape: (5, 4)</small><table border=\"1\" class=\"dataframe\"><thead><tr><th>ctg_name</th><th>name</th><th>st</th><th>end</th></tr><tr><td>str</td><td>str</td><td>i64</td><td>i64</td></tr></thead><tbody><tr><td>&quot;HG00171_chr9_haplotype2-000014…</td><td>&quot;qname&quot;</td><td>0</td><td>88637345</td></tr><tr><td>&quot;HG00171_chr9_haplotype2-000014…</td><td>&quot;tname&quot;</td><td>88637345</td><td>88683409</td></tr><tr><td>&quot;HG00171_chr9_haplotype2-000014…</td><td>&quot;qname&quot;</td><td>88637345</td><td>88711160</td></tr><tr><td>&quot;HG00171_chr9_haplotype2-000014…</td><td>&quot;tname&quot;</td><td>88757224</td><td>88849602</td></tr><tr><td>&quot;HG00171_chr9_haplotype2-000014…</td><td>&quot;qname&quot;</td><td>88711160</td><td>93834890</td></tr></tbody></table></div>"
      ],
      "text/plain": [
       "shape: (5, 4)\n",
       "┌─────────────────────────────────┬───────┬──────────┬──────────┐\n",
       "│ ctg_name                        ┆ name  ┆ st       ┆ end      │\n",
       "│ ---                             ┆ ---   ┆ ---      ┆ ---      │\n",
       "│ str                             ┆ str   ┆ i64      ┆ i64      │\n",
       "╞═════════════════════════════════╪═══════╪══════════╪══════════╡\n",
       "│ HG00171_chr9_haplotype2-000014… ┆ qname ┆ 0        ┆ 88637345 │\n",
       "│ HG00171_chr9_haplotype2-000014… ┆ tname ┆ 88637345 ┆ 88683409 │\n",
       "│ HG00171_chr9_haplotype2-000014… ┆ qname ┆ 88637345 ┆ 88711160 │\n",
       "│ HG00171_chr9_haplotype2-000014… ┆ tname ┆ 88757224 ┆ 88849602 │\n",
       "│ HG00171_chr9_haplotype2-000014… ┆ qname ┆ 88711160 ┆ 93834890 │\n",
       "└─────────────────────────────────┴───────┴──────────┴──────────┘"
      ]
     },
     "execution_count": 67,
     "metadata": {},
     "output_type": "execute_result"
    }
   ],
   "source": [
    "new_rows = []\n",
    "for row in df.iter_rows(named=True):\n",
    "    new_rows.append((row[\"new_qname\"], \"qname\", row[\"qst\"], row[\"qend\"]))\n",
    "    try:\n",
    "        next_row = df.row(row[\"index\"] + 1, named=True)\n",
    "    except pl.OutOfBoundsError:\n",
    "        continue\n",
    "    if (\n",
    "        row[\"qend\"] == next_row[\"qst\"]\n",
    "        and row[\"q\"] == next_row[\"q\"]\n",
    "        and row[\"ort\"] == next_row[\"ort\"]\n",
    "    ):\n",
    "        indel_size = next_row[\"tst\"] - row[\"tend\"]\n",
    "        # Then adjust orientation.\n",
    "        if row[\"ort\"] == \"+\":\n",
    "            new_st, new_end = row[\"tend\"], next_row[\"tst\"]\n",
    "        else:\n",
    "            new_st, new_end = (\n",
    "                row[\"target_ctg_len\"] - row[\"tend\"],\n",
    "                row[\"target_ctg_len\"] - next_row[\"tst\"],\n",
    "            )\n",
    "        new_rows.append((row[\"new_tname\"], \"tname\", new_st, new_end))\n",
    "\n",
    "target_ctg_len = df.select(\"target_ctg_len\").row(0)[0]\n",
    "query_ctg_len = df.select(\"query_ctg_len\").row(0)[0]\n",
    "df_new_rows = (\n",
    "    pl.DataFrame(\n",
    "        new_rows,\n",
    "        schema={\n",
    "            \"ctg_name\": pl.String,\n",
    "            \"name\": pl.String,\n",
    "            \"st\": pl.Int64,\n",
    "            \"end\": pl.Int64,\n",
    "        },\n",
    "    )\n",
    "    # Group and aggregate to min max coords\n",
    "    .with_columns(row_grp_id=pl.col(\"name\").rle_id())\n",
    "    .group_by([\"row_grp_id\"])\n",
    "    .agg(\n",
    "        pl.col(\"ctg_name\").first(),\n",
    "        pl.col(\"name\").first(),\n",
    "        pl.col(\"st\").min(),\n",
    "        pl.col(\"end\").max(),\n",
    "    )\n",
    "    .sort(by=\"row_grp_id\")\n",
    "    .drop(\"row_grp_id\")\n",
    "    # Then add boundary coordinates.\n",
    "    .with_row_index()\n",
    "    .with_columns(\n",
    "        st=pl.when(pl.col(\"index\") == pl.col(\"index\").first())\n",
    "        .then(pl.lit(0))\n",
    "        .otherwise(pl.col(\"st\")),\n",
    "        end=pl.when(pl.col(\"index\") == pl.col(\"index\").last())\n",
    "        .then(\n",
    "            pl.when(pl.col(\"name\") == \"qname\")\n",
    "            .then(pl.lit(query_ctg_len))\n",
    "            .otherwise(pl.lit(target_ctg_len))\n",
    "        )\n",
    "        .otherwise(pl.col(\"end\")),\n",
    "    )\n",
    "    .drop(\"index\")\n",
    ")\n",
    "df_new_rows"
   ]
  }
 ],
 "metadata": {
  "kernelspec": {
   "display_name": "general",
   "language": "python",
   "name": "python3"
  },
  "language_info": {
   "codemirror_mode": {
    "name": "ipython",
    "version": 3
   },
   "file_extension": ".py",
   "mimetype": "text/x-python",
   "name": "python",
   "nbconvert_exporter": "python",
   "pygments_lexer": "ipython3",
   "version": "3.12.0"
  }
 },
 "nbformat": 4,
 "nbformat_minor": 2
}
